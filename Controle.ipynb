{
 "cells": [
  {
   "cell_type": "markdown",
   "metadata": {
    "slideshow": {
     "slide_type": "slide"
    }
   },
   "source": [
    "$\\Large{Variáveis:}$\n",
    "\n",
    "- M = massa do carro (Kg)\n",
    "\n",
    "- m = massa do pêndulo (Kg)\n",
    "\n",
    "- L = metade do tamanho do pendulo (m)\n",
    "\n",
    "- j = inércia rotacional do pêndulo (m)\n",
    "\n",
    "- g = aceleração gravitacional (m/s²)\n",
    "\n",
    "- theta ($\\theta$) = inclinação do pendulo (rad)\n",
    "\n",
    "- F = força aplicada ao carrinho (N)\n",
    "\n",
    "- x = posição do carrinho\n",
    "\n",
    "\n",
    "imagem 1\n",
    "![](figs/pendTorq.png)"
   ]
  },
  {
   "cell_type": "markdown",
   "metadata": {
    "slideshow": {
     "slide_type": "slide"
    }
   },
   "source": [
    "$\\Large Dinâmica$ $\\Large do$ $\\Large pêndulo:$\n",
    "\n",
    "$ j\\dfrac{d²}{dt²}\\theta = j\\\"{\\theta}$ = $\\sum_{}{}T $\n",
    "$\\small Segunda$ $\\small lei$ $\\small de$ $\\small Newton$ $\\small aplicada$ $\\small à$ $\\small rotação$\n",
    "\n",
    "\n",
    "imagem 2\n",
    "\n",
    "$\\Large Decompondo$ $\\Large nos$ $\\Large eixos:$\n",
    "\n",
    "$mglsen(\\theta) - m\\\"xlcos(\\theta) $\n",
    "\n",
    "$\\Large igualando$ $\\Large as$ $\\Large relações:$\n",
    "\n",
    "$j\\\"{\\theta} = mglsen(\\theta) - m\\\"xlcos(\\theta)$\n",
    "\n",
    "$\\dfrac{4ml²}{3}\\\"{\\theta} = mglsen(\\theta) - m\\\"xlcos(\\theta)$\n",
    "\n",
    "$\\dfrac{4l}{3}\\\"{\\theta} = gsen(\\theta) - \\\"xcos(\\theta)$\n",
    "\n",
    "$\\\"{x} = gtan(\\theta) - \\dfrac{4l}{3cons(\\theta)} \\\"{\\theta}   [1]$\n"
   ]
  },
  {
   "cell_type": "markdown",
   "metadata": {
    "slideshow": {
     "slide_type": "slide"
    }
   },
   "source": [
    "$\\Large Dinâmica$ $\\Large do$ $\\Large carrinho:$\n",
    "\n",
    "$ M\\dfrac{d²}{dt²}x = M\\\"{x}$ = $\\sum_{}{}F $\n",
    "\n",
    "imagem\n",
    "\n",
    "\n",
    "$\\Large igualando$ $\\Large as$ $\\Large relações:$\n",
    "\n",
    "$(M + m)\\\"{x} = F_u - ml \\dfrac{d²}{dt²}sen(\\theta)$ [2]\n",
    "\n",
    "$\\dfrac{d}{dt}f(\\theta) =  \\\"{\\theta} f'(\\theta)$ **\n",
    "\n",
    "$=> \\dfrac{d²}{dt²}sen(\\theta) =  \\dfrac{d}{dt}(\\\"{\\theta} cos(\\theta))$\n",
    "\n",
    "$\\\"{\\theta} cos{\\theta} + \\'{\\theta}\\'{\\theta}(-sen(\\theta)) = \\\"{\\theta} cos(\\theta) - \\'{\\theta}² sen(\\theta)$\n",
    "\n",
    "$\\Large Substituindo$ $\\Large em$ $\\Large [2]:$ \n",
    "\n",
    "$(M + m)\\\"{x} = F_u - ml( \\\"{\\theta} cos(\\theta) - \\dot{\\theta}² sen(\\theta))$  \n",
    "\n",
    "$=> ml\\\"{\\theta}cos(\\theta) = F_u + ml\\'{\\theta²}sen(\\theta) - (M+m)\\\"{x}$\n",
    "\n",
    "$\\\"{\\theta} = \\dot{\\theta²} tan(\\theta) + \\dfrac{Fu - (M+m)\\\"{x}}{mlcos(\\theta)}$\n",
    "\n",
    "$\\Large Substituindo$ $\\Large \\\"{x}$ $\\Large [1]$:\n",
    "\n",
    "$\\ddot{\\theta} = \\dot{\\theta}^2 \\tan(\\theta) + \\frac{F_u}{m l \\cos(\\theta)} - \\frac{(M + m) g \\tan(\\theta)}{m l \\cos(\\theta)} + \\frac{4 l (M + m) \\ddot{\\theta}}{3 m l \\cos^2(\\theta)}$\n",
    "\n",
    "$ \\ddot{\\theta} \\left( 1 - \\frac{4 (M + m)}{3 m \\cos^2(\\theta)} \\right) = \\dot{\\theta}^2 \\tan(\\theta) + \\frac{F_u}{m l \\cos(\\theta)} - \\frac{(M + m) g \\tan(\\theta)}{m l \\cos(\\theta)}$\n",
    "\n",
    "$\\ddot{\\theta} = \\dfrac{\\dot{\\theta}^2 \\tan(\\theta) + \\frac{F_u}{m l \\cos(\\theta)} - \\frac{(M + m) g \\tan(\\theta)}{m l \\cos(\\theta)}}{1 - \\frac{4 (M + m)}{3 m \\cos^2(\\theta)}}$ [3]\n"
   ]
  },
  {
   "cell_type": "markdown",
   "metadata": {},
   "source": [
    "## Finalmente temos:\n",
    "\n",
    "$\\\"{x} = gtan(\\theta) - \\dfrac{4l}{3cons(\\theta)} \\\"{\\theta}$ *\n",
    "\n",
    "$\\ddot{\\theta} = \\dfrac{\\dot{\\theta}^2 \\tan(\\theta) + \\frac{F_u}{m l \\cos(\\theta)} - \\frac{(M + m) g \\tan(\\theta)}{m l \\cos(\\theta)}}{1 - \\frac{4 (M + m)}{3 m \\cos^2(\\theta)}}$  **\n"
   ]
  },
  {
   "cell_type": "markdown",
   "metadata": {},
   "source": [
    "- O carrinho começará em x(0) = 0 e xDot(0) = 0 (posição e velocidade zero).\n",
    "\n",
    "- O pêndulo começará em theta(0) = 0 e thetaDot(0) = 0 (deflexão e velocidade angular zero).\n",
    "\n",
    "- sin(theta) = ~theta; cos(theta) = ~1; thetaDot2 = ~0.\n",
    "\n",
    "**: $\\ddot{\\theta} = \\dfrac{\\dot{\\theta}^2 \\tan(\\theta) + \\frac{F_u}{m l \\cos(\\theta)} - \\frac{(M + m) g \\tan(\\theta)}{m l \\cos(\\theta)}}{1 - \\frac{4 (M + m)}{3 m \\cos^2(\\theta)}}$ =>\n",
    "\n",
    "\n",
    "$\\ddot{\\theta} \\approx \\dfrac{3\\bcancel{m} \\frac{F_u}{\\bcancel{m} l} - 3\\bcancel{m} \\frac{(M + m) g \\theta}{\\bcancel{m} l}}{3m - \\bcancel{3m} \\frac{4(M + m)}{\\bcancel{3m}}}$\n",
    "\n",
    "\n",
    "$\\ddot{\\theta} \\approx \\frac{3(F_u - (M + m) g \\theta)}{l(3m - 4(M + m))}$\n",
    "\n",
    "...\n"
   ]
  },
  {
   "cell_type": "code",
   "execution_count": null,
   "metadata": {
    "vscode": {
     "languageId": "plaintext"
    }
   },
   "outputs": [],
   "source": []
  },
  {
   "cell_type": "markdown",
   "metadata": {},
   "source": [
    "1"
   ]
  },
  {
   "cell_type": "code",
   "execution_count": null,
   "metadata": {
    "vscode": {
     "languageId": "plaintext"
    }
   },
   "outputs": [],
   "source": [
    "$\\Large Dinâmica$"
   ]
  },
  {
   "cell_type": "markdown",
   "metadata": {},
   "source": [
    " veja so o pi $\\pi$"
   ]
  },
  {
   "cell_type": "markdown",
   "metadata": {},
   "source": []
  }
 ],
 "metadata": {
  "language_info": {
   "name": "python"
  }
 },
 "nbformat": 4,
 "nbformat_minor": 2
}
